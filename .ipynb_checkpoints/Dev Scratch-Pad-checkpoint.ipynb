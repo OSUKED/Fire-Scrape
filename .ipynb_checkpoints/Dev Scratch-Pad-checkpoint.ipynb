{
 "cells": [
  {
   "cell_type": "code",
   "execution_count": 16,
   "metadata": {},
   "outputs": [],
   "source": [
    "import os\n",
    "import git\n",
    "import pandas as pd\n",
    "\n",
    "from IPython.display import JSON"
   ]
  },
  {
   "cell_type": "code",
   "execution_count": 2,
   "metadata": {},
   "outputs": [],
   "source": [
    "# The first test subject project will use:\n",
    "# * https://www.thecrownestate.co.uk/api/energy-map/wind-graph-all-Data\n",
    "# * https://www.thecrownestate.co.uk/api/energy-map/wind-farm-data"
   ]
  },
  {
   "cell_type": "code",
   "execution_count": 3,
   "metadata": {},
   "outputs": [],
   "source": [
    "def write_string_to_file(string, filepath):\n",
    "    with open(filepath, 'w') as out:\n",
    "        out.write(string)\n",
    "        \n",
    "def format_lists(list_a, list_b=None):\n",
    "    if list_b is not None:\n",
    "        return sorted(list(set(list_a) + set(list_b)))\n",
    "    else:\n",
    "        return sorted(list(set(list_a)))\n",
    "    \n",
    "def construct_yml_str(env_name, env_yml_section_to_items, env_yml_section_to_offset):\n",
    "    yml_str = f'name: {env_name}\\n\\n'\n",
    "\n",
    "    for section in env_yml_section_to_items.keys():\n",
    "        section_offset = env_yml_section_to_offset[section]\n",
    "        separator = f\"\\n{section_offset*' '}- \"\n",
    "\n",
    "        if section_offset > 2:\n",
    "            section_prefix = f\"{(section_offset-4)*' '}- \"\n",
    "        else:\n",
    "            section_prefix = ''\n",
    "\n",
    "        section_str = f'{section_prefix}{section}:{separator}{separator.join(env_yml_section_to_items[section])}'\n",
    "        yml_str += f'{section_str}\\n\\n'\n",
    "        \n",
    "    return yml_str\n",
    "    \n",
    "def create_environment_yml(env_name, python_version='3.7', dependencies=None, pip=None, channels=None):\n",
    "    # Defining section item defaults\n",
    "    default_channels = ['conda-forge']\n",
    "    default_dependencies = [f'python={python_version}', 'pip', 'pandas', 'matplotlib', 'jupyterlab', 'seaborn', 'lxml', 'xmltodict', 'beautifulsoup4', 'html5lib', 'python-dotenv']\n",
    "    default_pip = ['ipypb', 'feautils']\n",
    "    \n",
    "    # Defining section whitespace offset\n",
    "    env_yml_section_to_offset = {\n",
    "        'channels': 2, \n",
    "        'dependencies': 2, \n",
    "        'pip': 6\n",
    "    }\n",
    "    \n",
    "    # Adding any passed section items\n",
    "    locals_ = locals()\n",
    "    env_yml_section_to_items = {\n",
    "        section: format_lists(locals_[f'default_{section}'], locals_[section]) \n",
    "        for section in env_yml_section_to_offset.keys()\n",
    "    }\n",
    "    \n",
    "    # Creating and saving environment.yml file\n",
    "    yml_str = construct_yml_str(env_name, env_yml_section_to_items, env_yml_section_to_offset)\n",
    "    write_string_to_file(yml_str, 'environment.yml')\n",
    "    \n",
    "    return yml_str"
   ]
  },
  {
   "cell_type": "code",
   "execution_count": null,
   "metadata": {},
   "outputs": [],
   "source": []
  },
  {
   "cell_type": "code",
   "execution_count": 4,
   "metadata": {},
   "outputs": [],
   "source": [
    "def create_readme_md(proj_name, \n",
    "                     dt_prefix='Last updated: ', \n",
    "                     dt_format='%Y-%m-%d %H:%M'):\n",
    "    \n",
    "    readme_text = f\"\"\"\\\n",
    "# {proj_name.replace('-', ' ')}\n",
    "\n",
    "{dt_prefix}{pd.Timestamp.now().strftime(dt_format)}\n",
    "    \"\"\"\n",
    "    \n",
    "    with open('README.md', 'w') as readme:\n",
    "        readme.write(readme_text)\n",
    "        \n",
    "    return"
   ]
  },
  {
   "cell_type": "code",
   "execution_count": null,
   "metadata": {},
   "outputs": [],
   "source": []
  },
  {
   "cell_type": "code",
   "execution_count": 5,
   "metadata": {},
   "outputs": [],
   "source": [
    "def create_gitignore(include_env_vars=False):\n",
    "    default_ignores = ['.ipynb_checkpoints']\n",
    "    \n",
    "    if include_env_vars == True:\n",
    "        default_ignores += ['.env']\n",
    "    \n",
    "    gitignore_text = '\\n'.join(default_ignores)\n",
    "    \n",
    "    with open('.gitignore', 'w') as readme:\n",
    "        readme.write(gitignore_text)\n",
    "        \n",
    "    return"
   ]
  },
  {
   "cell_type": "code",
   "execution_count": null,
   "metadata": {},
   "outputs": [],
   "source": []
  },
  {
   "cell_type": "code",
   "execution_count": 6,
   "metadata": {},
   "outputs": [],
   "source": [
    "def create_batch_scripts(env_name, batch_scripts_dir='batch_scripts'):\n",
    "    script_name_to_commands = {\n",
    "        'launch_lab': [\n",
    "            'cd ..',\n",
    "            f'conda activate {env_name}',\n",
    "            'jupyter lab'\n",
    "        ],\n",
    "        'setup_env': [\n",
    "            'cd ..',\n",
    "            'conda env create -f environment.yml',\n",
    "            f'conda activate {env_name}',\n",
    "            f'ipython kernel install --user --name={env_name}'\n",
    "        ],\n",
    "        'update_env': [\n",
    "            'cd ..',\n",
    "            f'conda activate {env_name}',\n",
    "            'conda env update --file environment.yml'\n",
    "        ],\n",
    "    }\n",
    "\n",
    "    if not os.path.exists(batch_scripts_dir):\n",
    "        os.makedirs(batch_scripts_dir)\n",
    "\n",
    "    sep = '\\ncall '\n",
    "\n",
    "    for script_name, commands in script_name_to_commands.items():\n",
    "        batch_commands_str = f\"call {sep.join(commands)}\" + '\\npause'\n",
    "        write_string_to_file(batch_commands_str, f'{batch_scripts_dir}/{script_name}.bat')\n",
    "        \n",
    "    return "
   ]
  },
  {
   "cell_type": "code",
   "execution_count": null,
   "metadata": {},
   "outputs": [],
   "source": []
  },
  {
   "cell_type": "code",
   "execution_count": 13,
   "metadata": {},
   "outputs": [],
   "source": [
    "def create_dot_env(include_env_vars):\n",
    "    if include_env_vars == True:\n",
    "        write_string_to_file('', '.env')\n",
    "        \n",
    "    return"
   ]
  },
  {
   "cell_type": "code",
   "execution_count": null,
   "metadata": {},
   "outputs": [],
   "source": []
  },
  {
   "cell_type": "code",
   "execution_count": null,
   "metadata": {},
   "outputs": [],
   "source": []
  },
  {
   "cell_type": "code",
   "execution_count": 14,
   "metadata": {},
   "outputs": [],
   "source": [
    "def setup_project(proj_name, proj_path='.', env_name=None, include_env_vars=False, python_version='3.7', dependencies=None, pip=None, channels=None):\n",
    "    # Cleaning names\n",
    "    proj_name = proj_name.replace(' ', '-')\n",
    "    \n",
    "    if env_name is None:\n",
    "        env_name = proj_name.replace('-', '').replace(' ', '')\n",
    "        \n",
    "    # Creating and entering project directory\n",
    "    proj_dir = f'{proj_path}/{proj_name}'\n",
    "    \n",
    "    if not os.path.exists(proj_dir):\n",
    "        os.makedirs(proj_dir)\n",
    "        \n",
    "    os.chdir(proj_dir)\n",
    "    \n",
    "    # Creating files     \n",
    "    create_environment_yml(env_name, python_version=python_version, dependencies=dependencies, pip=pip, channels=channels)\n",
    "    create_readme_md(proj_name)\n",
    "    create_gitignore(include_env_vars=include_env_vars)\n",
    "    create_dot_env(include_env_vars)\n",
    "    create_batch_scripts(env_name)\n",
    "    \n",
    "    # Returning to original directory\n",
    "    os.chdir('/'.join(proj_dir.count('/')*['..']))\n",
    "    \n",
    "    # Initialising it as a Git repo\n",
    "    git.Repo.init(proj_dir)\n",
    "    \n",
    "    return\n",
    "\n",
    "setup_project('Test Project')"
   ]
  },
  {
   "cell_type": "code",
   "execution_count": null,
   "metadata": {},
   "outputs": [],
   "source": []
  },
  {
   "cell_type": "code",
   "execution_count": null,
   "metadata": {},
   "outputs": [],
   "source": []
  },
  {
   "cell_type": "code",
   "execution_count": null,
   "metadata": {},
   "outputs": [],
   "source": []
  }
 ],
 "metadata": {
  "kernelspec": {
   "display_name": "FireScrape",
   "language": "python",
   "name": "firescrape"
  },
  "language_info": {
   "codemirror_mode": {
    "name": "ipython",
    "version": 3
   },
   "file_extension": ".py",
   "mimetype": "text/x-python",
   "name": "python",
   "nbconvert_exporter": "python",
   "pygments_lexer": "ipython3",
   "version": "3.7.8"
  }
 },
 "nbformat": 4,
 "nbformat_minor": 4
}
