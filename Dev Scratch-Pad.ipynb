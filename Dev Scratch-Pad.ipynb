{
 "cells": [
  {
   "cell_type": "code",
   "execution_count": 3,
   "metadata": {},
   "outputs": [],
   "source": [
    "from IPython.display import JSON"
   ]
  },
  {
   "cell_type": "code",
   "execution_count": null,
   "metadata": {},
   "outputs": [],
   "source": [
    "# The first test subject project will use:\n",
    "# * https://www.thecrownestate.co.uk/api/energy-map/wind-graph-all-Data\n",
    "# * https://www.thecrownestate.co.uk/api/energy-map/wind-farm-data"
   ]
  },
  {
   "cell_type": "code",
   "execution_count": 34,
   "metadata": {},
   "outputs": [
    {
     "name": "stdout",
     "output_type": "stream",
     "text": [
      "name: FireScrape\n",
      "\n",
      "dependencies:\n",
      "  - beautifulsoup4\n",
      "  - html5lib\n",
      "  - jupyterlab\n",
      "  - lxml\n",
      "  - matplotlib\n",
      "  - pandas\n",
      "  - pip\n",
      "  - python-dotenv\n",
      "  - python=3.7\n",
      "  - seaborn\n",
      "  - xmltodict\n",
      "\n",
      "  - pip:\n",
      "      - feautils\n",
      "      - ipypb\n",
      "\n",
      "channels:\n",
      "  - conda-forge\n",
      "\n",
      "\n"
     ]
    }
   ],
   "source": [
    "def format_lists(list_a, list_b=None):\n",
    "    if list_b is not None:\n",
    "        return sorted(list(set(list_a) + set(list_b)))\n",
    "    else:\n",
    "        return sorted(list(set(list_a)))\n",
    "    \n",
    "def construct_yml_str(env_name, env_yml_section_to_items, env_yml_section_to_offset):\n",
    "    yml_str = f'name: {env_name}\\n\\n'\n",
    "\n",
    "    for section in env_yml_section_to_items.keys():\n",
    "        section_offset = env_yml_section_to_offset[section]\n",
    "        separator = f\"\\n{section_offset*' '}- \"\n",
    "\n",
    "        if section_offset > 2:\n",
    "            section_prefix = f\"{(section_offset-4)*' '}- \"\n",
    "        else:\n",
    "            section_prefix = ''\n",
    "\n",
    "        section_str = f'{section_prefix}{section}:{separator}{separator.join(env_yml_section_to_items[section])}'\n",
    "        yml_str += f'{section_str}\\n\\n'\n",
    "        \n",
    "    return yml_str\n",
    "    \n",
    "def create_environment_yml(env_name, python_version='3.7', dependencies=None, pip=None, channels=None):\n",
    "    # Defining section item defaults\n",
    "    default_channels = ['conda-forge']\n",
    "    default_dependencies = [f'python={python_version}', 'pip', 'pandas', 'matplotlib', 'jupyterlab', 'seaborn', 'lxml', 'xmltodict', 'beautifulsoup4', 'html5lib', 'python-dotenv']\n",
    "    default_pip = ['ipypb', 'feautils']\n",
    "    \n",
    "    # Defining section whitespace offset\n",
    "    env_yml_section_to_offset = {\n",
    "        'channels': 2, \n",
    "        'dependencies': 2, \n",
    "        'pip': 6\n",
    "    }\n",
    "    \n",
    "    # Adding any passed section items\n",
    "    locals_ = locals()\n",
    "    \n",
    "    env_yml_section_to_items = {\n",
    "        section: format_lists(locals_[f'default_{section}'], list_) \n",
    "        for section, list_ in locals_.items()\n",
    "        if section in env_yml_section_to_offset.keys()\n",
    "    }\n",
    "    \n",
    "    # Creating and saving environment.yml file\n",
    "    yml_str = construct_yml_str(env_name, env_yml_section_to_items, env_yml_section_to_offset)\n",
    "    \n",
    "#     with open('environment.yml', 'w') as out:\n",
    "#         out.write(yml_str)\n",
    "    \n",
    "    return yml_str\n",
    "\n",
    "env_name = 'FireScrape'\n",
    "\n",
    "yml_str = create_environment_yml(env_name)\n",
    "\n",
    "print(yml_str)"
   ]
  },
  {
   "cell_type": "code",
   "execution_count": null,
   "metadata": {},
   "outputs": [],
   "source": []
  },
  {
   "cell_type": "code",
   "execution_count": null,
   "metadata": {},
   "outputs": [],
   "source": []
  },
  {
   "cell_type": "code",
   "execution_count": null,
   "metadata": {},
   "outputs": [],
   "source": []
  }
 ],
 "metadata": {
  "kernelspec": {
   "display_name": "FireScrape",
   "language": "python",
   "name": "firescrape"
  },
  "language_info": {
   "codemirror_mode": {
    "name": "ipython",
    "version": 3
   },
   "file_extension": ".py",
   "mimetype": "text/x-python",
   "name": "python",
   "nbconvert_exporter": "python",
   "pygments_lexer": "ipython3",
   "version": "3.7.8"
  }
 },
 "nbformat": 4,
 "nbformat_minor": 4
}
